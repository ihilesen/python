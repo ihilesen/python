{
  "nbformat": 4,
  "nbformat_minor": 0,
  "metadata": {
    "colab": {
      "provenance": [],
      "authorship_tag": "ABX9TyPYtftS7X4dnuPZvcVUWmqD",
      "include_colab_link": true
    },
    "kernelspec": {
      "name": "python3",
      "display_name": "Python 3"
    },
    "language_info": {
      "name": "python"
    }
  },
  "cells": [
    {
      "cell_type": "markdown",
      "metadata": {
        "id": "view-in-github",
        "colab_type": "text"
      },
      "source": [
        "<a href=\"https://colab.research.google.com/github/ihilesen/python/blob/master/Tip_Calculator.ipynb\" target=\"_parent\"><img src=\"https://colab.research.google.com/assets/colab-badge.svg\" alt=\"Open In Colab\"/></a>"
      ]
    },
    {
      "cell_type": "code",
      "execution_count": 9,
      "metadata": {
        "colab": {
          "base_uri": "https://localhost:8080/"
        },
        "id": "9S9aFvtpOyHI",
        "outputId": "8f367ae9-a891-49d4-a4d0-52f754e00e01"
      },
      "outputs": [
        {
          "output_type": "stream",
          "name": "stdout",
          "text": [
            "Welcome to the tip calculator!\n",
            "What was the total bill? $7200\n",
            "How much tip would you like to give? 10, 12, or 15? 20\n",
            "How many people to split the bill?12\n",
            "Each person should pay: $720.0\n"
          ]
        }
      ],
      "source": [
        "#If the bill was $150.00, split between 5 people, with 12% tip.\n",
        "#Each person should pay (150.00 / 5) * 1.12 = 33.6\n",
        "#Round the result to 2 decimal places.\n",
        "print(\"Welcome to the tip calculator!\")\n",
        "bill = float(input(\"What was the total bill? $\"))\n",
        "tip = int(input(\"How much tip would you like to give? 10, 12, or 15? \"))\n",
        "people = int(input(\"How many people to split the bill?\"))\n",
        "\n",
        "tip_as_percent = tip / 100\n",
        "total_tip_amount = bill * tip_as_percent\n",
        "total_bill = bill + total_tip_amount\n",
        "bill_per_person = total_bill / people\n",
        "final_amount = round(bill_per_person, 2)\n",
        "\n",
        "\n",
        "# FAQ: How to round to 2 decimal places?\n",
        "\n",
        "# Find the answer in the Q&A here: https://www.udemy.com/course/100-days-of-code/learn/lecture/17965132#questions/13315048\n",
        "\n",
        "\n",
        "print(f\"Each person should pay: ${final_amount}\")"
      ]
    },
    {
      "cell_type": "code",
      "source": [
        "print(\"Welcome to the tip calculator\")\n",
        "bill = float(input(\"What was the total bill? £\"))\n",
        "tip = int(input(\"How much tip would you like to give? 10, 12, 15? \"))\n",
        "people = int(input(\"How many people to split the bill?\"))\n",
        "\n",
        "tip_as_percent = tip/100\n",
        "total_tip_amount = bill * tip_as_percent\n",
        "total_bill = bill + total_tip_amount\n",
        "bill_per_person = total_bill / people\n",
        "final_amount = round(bill_per_person, 3)\n",
        "\n",
        "print(f\"Each person should pay: £{final_amount}\")"
      ],
      "metadata": {
        "colab": {
          "base_uri": "https://localhost:8080/"
        },
        "id": "AZX8w9TadhsU",
        "outputId": "acf07040-6aed-4732-af97-1c5ba12d0308"
      },
      "execution_count": 11,
      "outputs": [
        {
          "output_type": "stream",
          "name": "stdout",
          "text": [
            "Welcome to the tip calculator\n",
            "What was the total bill? £69\n",
            "How much tip would you like to give? 10, 12, 15? 0\n",
            "How many people to split the bill?2\n",
            "Each person should pay: £34.5\n"
          ]
        }
      ]
    }
  ]
}
{
  "nbformat": 4,
  "nbformat_minor": 0,
  "metadata": {
    "colab": {
      "provenance": [],
      "authorship_tag": "ABX9TyPbWViqkjTnBev+PcO9LSVo",
      "include_colab_link": true
    },
    "kernelspec": {
      "name": "python3",
      "display_name": "Python 3"
    },
    "language_info": {
      "name": "python"
    }
  },
  "cells": [
    {
      "cell_type": "markdown",
      "metadata": {
        "id": "view-in-github",
        "colab_type": "text"
      },
      "source": [
        "<a href=\"https://colab.research.google.com/github/ihilesen/python/blob/master/BMI_Calculator.ipynb\" target=\"_parent\"><img src=\"https://colab.research.google.com/assets/colab-badge.svg\" alt=\"Open In Colab\"/></a>"
      ]
    },
    {
      "cell_type": "code",
      "execution_count": null,
      "metadata": {
        "colab": {
          "base_uri": "https://localhost:8080/"
        },
        "id": "-jl-Avl9vTqC",
        "outputId": "46d9a2f4-0099-4254-9310-504e3e53ffc7"
      },
      "outputs": [
        {
          "output_type": "stream",
          "name": "stdout",
          "text": [
            "What is your weight in kg? \n",
            "72\n",
            "What is your height in m? \n",
            "1.65\n",
            "Your bmi is 26.44628099173554\n"
          ]
        }
      ],
      "source": [
        "#BMI CALCULATOR\n",
        "weight = input('What is your weight in kg? \\n')\n",
        "height= input('What is your height in m? \\n')\n",
        "BMI = int(weight)/(float(height)**2)\n",
        "print('Your bmi is ' + str(BMI))\n",
        "#use round() function to round up decimals. ,n will give the number of decimal places."
      ]
    },
    {
      "cell_type": "code",
      "source": [
        "# Enter your height in meters e.g., 1.55\n",
        "height = float(input(\"What is your height in metres? \"))\n",
        "# Enter your weight in kilograms e.g., 72\n",
        "weight = int(input(\"What is your weight in kg? \"))\n",
        "# 🚨 Don't change the code above 👆\n",
        "\n",
        "#Write your code below this line 👇\n",
        "bmi = weight / (height * height)\n",
        "if bmi < 18.5:\n",
        "  print(f\"Your BMI is {bmi}, you are underweight.\")\n",
        "elif bmi < 25:\n",
        "  print(f\"Your BMI is {bmi}, you have a normal weight.\")\n",
        "elif bmi < 30:\n",
        "  print(f\"Your BMI is {bmi}, you are slightly overweight.\")\n",
        "elif bmi < 35:\n",
        "  print(f\"Your BMI is {bmi}, you are obese.\")\n",
        "else:\n",
        "  print(f\"Your BMI is 37.50000, you are clinically obese.\")"
      ],
      "metadata": {
        "colab": {
          "base_uri": "https://localhost:8080/"
        },
        "id": "elQvTUw6_-hU",
        "outputId": "6dcb23da-6359-484d-ac25-adf07e401c51"
      },
      "execution_count": 2,
      "outputs": [
        {
          "output_type": "stream",
          "name": "stdout",
          "text": [
            "What is your height in metres? 1.65\n",
            "What is your weight in kg? 72\n",
            "Your BMI is 26.44628099173554, you are slightly overweight.\n"
          ]
        }
      ]
    }
  ]
}
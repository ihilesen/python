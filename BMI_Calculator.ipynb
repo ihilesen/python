{
  "nbformat": 4,
  "nbformat_minor": 0,
  "metadata": {
    "colab": {
      "provenance": [],
      "authorship_tag": "ABX9TyOdwRJXFb+I3POZ0lU23ey1",
      "include_colab_link": true
    },
    "kernelspec": {
      "name": "python3",
      "display_name": "Python 3"
    },
    "language_info": {
      "name": "python"
    }
  },
  "cells": [
    {
      "cell_type": "markdown",
      "metadata": {
        "id": "view-in-github",
        "colab_type": "text"
      },
      "source": [
        "<a href=\"https://colab.research.google.com/github/ihilesen/python/blob/master/BMI_Calculator.ipynb\" target=\"_parent\"><img src=\"https://colab.research.google.com/assets/colab-badge.svg\" alt=\"Open In Colab\"/></a>"
      ]
    },
    {
      "cell_type": "code",
      "execution_count": 1,
      "metadata": {
        "colab": {
          "base_uri": "https://localhost:8080/"
        },
        "id": "-jl-Avl9vTqC",
        "outputId": "46d9a2f4-0099-4254-9310-504e3e53ffc7"
      },
      "outputs": [
        {
          "output_type": "stream",
          "name": "stdout",
          "text": [
            "What is your weight in kg? \n",
            "72\n",
            "What is your height in m? \n",
            "1.65\n",
            "Your bmi is 26.44628099173554\n"
          ]
        }
      ],
      "source": [
        "#BMI CALCULATOR\n",
        "weight = input('What is your weight in kg? \\n')\n",
        "height= input('What is your height in m? \\n')\n",
        "BMI = int(weight)/(float(height)**2)\n",
        "print('Your bmi is ' + str(BMI))\n",
        "#use round() function to round up decimals. ,n will give the number of decimal places."
      ]
    }
  ]
}
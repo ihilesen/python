{
  "nbformat": 4,
  "nbformat_minor": 0,
  "metadata": {
    "colab": {
      "provenance": [],
      "authorship_tag": "ABX9TyMGhDOhSjMgbJDEGP3duiJu",
      "include_colab_link": true
    },
    "kernelspec": {
      "name": "python3",
      "display_name": "Python 3"
    },
    "language_info": {
      "name": "python"
    }
  },
  "cells": [
    {
      "cell_type": "markdown",
      "metadata": {
        "id": "view-in-github",
        "colab_type": "text"
      },
      "source": [
        "<a href=\"https://colab.research.google.com/github/ihilesen/python/blob/master/Leap_year.ipynb\" target=\"_parent\"><img src=\"https://colab.research.google.com/assets/colab-badge.svg\" alt=\"Open In Colab\"/></a>"
      ]
    },
    {
      "cell_type": "code",
      "execution_count": null,
      "metadata": {
        "id": "C7IQmlktDf_U"
      },
      "outputs": [],
      "source": [
        "# Which year do you want to check?\n",
        "year = int(input())\n",
        "# 🚨 Don't change the code above 👆\n",
        "\n",
        "# Write your code below this line 👇\n",
        "if year % 4 == 0:\n",
        "  if year % 100 == 0:\n",
        "    if year % 400 == 0:\n",
        "      print(\"Leap year\")\n",
        "    else:\n",
        "      print(\"Not leap year\")\n",
        "  else:\n",
        "    print(\"Leap year\")\n",
        "else:\n",
        "  print(\"Not leap year\")"
      ]
    },
    {
      "cell_type": "markdown",
      "source": [
        "This is a difficult challenge! 💪\n",
        "Write a program that works out whether if a given year is a leap year. A normal year has 365 days, leap years have 366, with an extra day in February. The reason why we have leap years is really fascinating, this video does it more justice.\n",
        "\n",
        "This is how you work out whether if a particular year is a leap year.\n",
        "\n",
        "on every year that is divisible by 4 with no remainder\n",
        "\n",
        "except every year that is evenly divisible by 100 with no remainder\n",
        "\n",
        "unless the year is also divisible by 400 with no remainder\n",
        "\n",
        "If english is not your first language or if the above logic is confusing, try using this flow chart .\n",
        "\n",
        "e.g. The year 2000:\n",
        "\n",
        "2000 ÷ 4 = 500 (Leap)\n",
        "\n",
        "2000 ÷ 100 = 20 (Not Leap)\n",
        "\n",
        "2000 ÷ 400 = 5 (Leap!)\n",
        "\n",
        "So the year 2000 is a leap year.\n",
        "\n",
        "But the year 2100 is not a leap year because:\n",
        "\n",
        "2100 ÷ 4 = 525 (Leap)\n",
        "\n",
        "2100 ÷ 100 = 21 (Not Leap)\n",
        "\n",
        "2100 ÷ 400 = 5.25 (Not Leap)\n",
        "\n",
        "Warning your output should match the Example Output format exactly, including spelling an punctuation.\n",
        "\n",
        "Example Input 1\n",
        "2400\n",
        "Example Output 1\n",
        "Leap year\n",
        "Example Input 2\n",
        "1989\n",
        "Example Output 2\n",
        "Not leap year"
      ],
      "metadata": {
        "id": "jQfb3hR8Dhcv"
      }
    }
  ]
}